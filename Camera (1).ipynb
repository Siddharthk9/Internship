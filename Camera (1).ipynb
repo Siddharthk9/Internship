{
 "cells": [
  {
   "cell_type": "code",
   "execution_count": null,
   "id": "75910633-9b3a-45f5-bc8a-674c5dc8a8c6",
   "metadata": {},
   "outputs": [],
   "source": [
    "import cv2 as cv\n",
    "img = cv.VideoCapture(0)\n",
    "\n",
    "\n",
    "while img.isOpened():\n",
    "    _,frame = img.read()\n",
    "    key = cv.waitKey(0)\n",
    "    cv.imshow('frame',frame)\n",
    "    if key == 27:\n",
    "        break\n",
    "img.release()\n",
    "cv.destroyAllWindows()\n",
    "    \n"
   ]
  },
  {
   "cell_type": "code",
   "execution_count": null,
   "id": "3a0056a0-9a03-4767-b831-67061ac1ec74",
   "metadata": {},
   "outputs": [],
   "source": []
  }
 ],
 "metadata": {
  "kernelspec": {
   "display_name": "Python 3 (ipykernel)",
   "language": "python",
   "name": "python3"
  },
  "language_info": {
   "codemirror_mode": {
    "name": "ipython",
    "version": 3
   },
   "file_extension": ".py",
   "mimetype": "text/x-python",
   "name": "python",
   "nbconvert_exporter": "python",
   "pygments_lexer": "ipython3",
   "version": "3.11.7"
  }
 },
 "nbformat": 4,
 "nbformat_minor": 5
}
