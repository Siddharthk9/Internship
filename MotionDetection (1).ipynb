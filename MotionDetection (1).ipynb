{
 "cells": [
  {
   "cell_type": "code",
   "execution_count": 1,
   "id": "2f24ae14-e603-4c84-b39a-0fbfeb7ef259",
   "metadata": {},
   "outputs": [],
   "source": [
    "import cv2\n",
    "import numpy as np\n",
    "\n",
    "# Initialize video capture object\n",
    "cap = cv2.VideoCapture(0)  # You may need to change the parameter to the appropriate video file or camera index\n",
    "\n",
    "# Read the first frame\n",
    "ret, prev_frame = cap.read()\n",
    "\n",
    "while True:\n",
    "    # Read frame from the camera\n",
    "    ret, frame = cap.read()\n",
    "    \n",
    "    # Convert frames to grayscale\n",
    "    prev_gray = cv2.cvtColor(prev_frame, cv2.COLOR_BGR2GRAY)\n",
    "    gray = cv2.cvtColor(frame, cv2.COLOR_BGR2GRAY)\n",
    "    \n",
    "    # Compute absolute difference between the current frame and the previous frame\n",
    "    frame_diff = cv2.absdiff(prev_gray, gray)\n",
    "    \n",
    "    # Apply threshold to get binary image\n",
    "    _, thresh = cv2.threshold(frame_diff, 30, 255, cv2.THRESH_BINARY)\n",
    "    \n",
    "    # Find contours of the moving objects\n",
    "    contours, _ = cv2.findContours(thresh, cv2.RETR_EXTERNAL, cv2.CHAIN_APPROX_SIMPLE)\n",
    "    \n",
    "    # Draw rectangles around the moving objects\n",
    "    for contour in contours:\n",
    "        if cv2.contourArea(contour) < 500:  # Adjust this threshold based on your need\n",
    "            continue\n",
    "        (x, y, w, h) = cv2.boundingRect(contour)\n",
    "        cv2.rectangle(frame, (x, y), (x + w, y + h), (0, 255, 0), 2)\n",
    "    \n",
    "    # Display the resulting frame\n",
    "    cv2.imshow('Motion Detection', frame)\n",
    "    \n",
    "    # Update previous frame\n",
    "    prev_frame = frame.copy()\n",
    "    \n",
    "    # Break the loop if 'q' is pressed\n",
    "    if cv2.waitKey(1) & 0xFF == ord('q'):\n",
    "        break\n",
    "\n",
    "# Release video capture object and close windows\n",
    "cap.release()\n",
    "cv2.destroyAllWindows()\n"
   ]
  },
  {
   "cell_type": "code",
   "execution_count": null,
   "id": "53e6cb2a-b1d3-4051-90cc-2c04931ae7f9",
   "metadata": {},
   "outputs": [],
   "source": []
  }
 ],
 "metadata": {
  "kernelspec": {
   "display_name": "Python 3 (ipykernel)",
   "language": "python",
   "name": "python3"
  },
  "language_info": {
   "codemirror_mode": {
    "name": "ipython",
    "version": 3
   },
   "file_extension": ".py",
   "mimetype": "text/x-python",
   "name": "python",
   "nbconvert_exporter": "python",
   "pygments_lexer": "ipython3",
   "version": "3.11.7"
  }
 },
 "nbformat": 4,
 "nbformat_minor": 5
}
